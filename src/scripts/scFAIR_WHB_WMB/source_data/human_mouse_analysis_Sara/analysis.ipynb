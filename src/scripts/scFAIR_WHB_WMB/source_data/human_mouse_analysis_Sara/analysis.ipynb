{
 "cells": [
  {
   "cell_type": "markdown",
   "metadata": {},
   "source": []
  },
  {
   "cell_type": "markdown",
   "metadata": {},
   "source": [
    "## load and clean cluster mapping table"
   ]
  },
  {
   "cell_type": "code",
   "execution_count": 14,
   "metadata": {},
   "outputs": [],
   "source": [
    "import pandas as pd\n",
    "# Step 1: Load and reshape mapping table\n",
    "mapping_wide = pd.read_csv(\"sm_cluster.mapping_table.tsv\", sep=\"\\t\", index_col=0)\n",
    "mapping_long = mapping_wide.reset_index().melt(id_vars='index', \n",
    "                                               var_name='cluster_2', \n",
    "                                               value_name='score')"
   ]
  },
  {
   "cell_type": "code",
   "execution_count": 15,
   "metadata": {},
   "outputs": [],
   "source": [
    "# Step 2: Rename columns for clarity\n",
    "mapping_long = mapping_long.rename(columns={'index': 'cluster_1'})"
   ]
  },
  {
   "cell_type": "code",
   "execution_count": 16,
   "metadata": {},
   "outputs": [],
   "source": [
    "# Step 3: Identify species based on prefix\n",
    "def get_species(label):\n",
    "    if label.startswith(\"mm_\"):\n",
    "        return \"mouse\"\n",
    "    elif label.startswith(\"hs_\"):\n",
    "        return \"human\"\n",
    "    else:\n",
    "        return \"unknown\"\n",
    "\n",
    "mapping_long['species_1'] = mapping_long['cluster_1'].apply(get_species)\n",
    "mapping_long['species_2'] = mapping_long['cluster_2'].apply(get_species)"
   ]
  },
  {
   "cell_type": "code",
   "execution_count": 17,
   "metadata": {},
   "outputs": [],
   "source": [
    "mapping_long = mapping_long[\n",
    "    ((mapping_long['species_1'] == 'mouse') & (mapping_long['species_2'] == 'human')) |\n",
    "    ((mapping_long['species_1'] == 'human') & (mapping_long['species_2'] == 'mouse'))\n",
    "].copy()"
   ]
  },
  {
   "cell_type": "code",
   "execution_count": 19,
   "metadata": {},
   "outputs": [],
   "source": [
    "# Step 5: Standardize columns: always make mouse → human direction\n",
    "# If cluster_1 is mouse and cluster_2 is human, keep as is\n",
    "# If it's reversed, swap them\n",
    "def reorder_clusters(row):\n",
    "    if row['species_1'] == 'mouse':\n",
    "        return pd.Series({'mouse_cluster': row['cluster_1'], 'human_cluster': row['cluster_2'], 'score': row['score']})\n",
    "    else:\n",
    "        return pd.Series({'mouse_cluster': row['cluster_2'], 'human_cluster': row['cluster_1'], 'score': row['score']})\n",
    "\n",
    "mapping_clean = mapping_long.apply(reorder_clusters, axis=1)"
   ]
  },
  {
   "cell_type": "markdown",
   "metadata": {},
   "source": [
    "## load and clean human_labels"
   ]
  },
  {
   "cell_type": "code",
   "execution_count": 26,
   "metadata": {},
   "outputs": [],
   "source": [
    "# 1. Load human cluster annotations\n",
    "human_labels = pd.read_csv(\"1_final_celltype.tsv\", sep=\"\\t\")\n",
    "human_labels = human_labels.rename(columns={'Cluster ID': 'human_cluster_id', 'cell_ontology_term': 'human_label'})"
   ]
  },
  {
   "cell_type": "code",
   "execution_count": 27,
   "metadata": {},
   "outputs": [
    {
     "data": {
      "text/plain": [
       "Index(['cell_set_accession', 'cell_label', 'cell_fullname',\n",
       "       'parent_cell_set_accession', 'parent_cell_set_name', 'labelset',\n",
       "       'cell_ontology_term_id', 'human_label', 'rationale', 'rationale_dois',\n",
       "       'marker_gene_evidence', 'synonyms', 'human_cluster_id',\n",
       "       'Class auto_annotation', 'sc_notes', 'Neurotransmitter auto_annotation',\n",
       "       'Subtype auto_annotation', 'Transferred MTG Label',\n",
       "       'Neuropeptide auto_annotation', 'Top three regions',\n",
       "       'Top three dissections', 'Top Enriched Genes', 'Number of cells',\n",
       "       'DoubletFinder score', 'Total UMI', 'Fraction unspliced',\n",
       "       'Fraction mitochondrial', 'H19.30.002', 'H19.30.001', 'H18.30.002',\n",
       "       'H18.30.001', 'Fraction cells from top donor', 'Number of donors',\n",
       "       'subcluster_id'],\n",
       "      dtype='object')"
      ]
     },
     "execution_count": 27,
     "metadata": {},
     "output_type": "execute_result"
    }
   ],
   "source": [
    "human_labels.columns"
   ]
  },
  {
   "cell_type": "code",
   "execution_count": 28,
   "metadata": {},
   "outputs": [],
   "source": [
    "# 2. Clean human cluster column: convert 'hs_32' → 32\n",
    "mapping_clean['human_cluster_id'] = mapping_clean['human_cluster'].str.extract(r'hs_(\\d+)').astype(int)"
   ]
  },
  {
   "cell_type": "code",
   "execution_count": 29,
   "metadata": {},
   "outputs": [],
   "source": [
    "# 3. Find top-scoring mouse cluster for each human cluster\n",
    "top_mouse_per_human = (\n",
    "    mapping_clean.sort_values('score', ascending=False)\n",
    "    .groupby('human_cluster_id')\n",
    "    .first()\n",
    "    .reset_index()\n",
    ")"
   ]
  },
  {
   "cell_type": "code",
   "execution_count": 30,
   "metadata": {},
   "outputs": [],
   "source": [
    "# 4. Join with human label\n",
    "top_mouse_per_human = top_mouse_per_human.merge(human_labels, on='human_cluster_id', how='left')"
   ]
  },
  {
   "cell_type": "code",
   "execution_count": 31,
   "metadata": {},
   "outputs": [],
   "source": [
    "# 5. Clean mouse label (remove 'mm_' prefix for comparison)\n",
    "top_mouse_per_human['mouse_label'] = top_mouse_per_human['mouse_cluster'].str.replace('mm_', '', regex=False)"
   ]
  },
  {
   "cell_type": "code",
   "execution_count": 32,
   "metadata": {},
   "outputs": [],
   "source": [
    "# 6. Evaluate agreement (simple string match)\n",
    "top_mouse_per_human['label_match'] = (\n",
    "    top_mouse_per_human['mouse_label'].str.lower() == top_mouse_per_human['human_label'].str.lower()\n",
    ")"
   ]
  },
  {
   "cell_type": "code",
   "execution_count": 33,
   "metadata": {},
   "outputs": [],
   "source": [
    "# 7. Calculate accuracy\n",
    "match_rate = top_mouse_per_human['label_match'].mean()"
   ]
  },
  {
   "cell_type": "markdown",
   "metadata": {},
   "source": [
    "### exact match rate = 37%"
   ]
  },
  {
   "cell_type": "code",
   "execution_count": 34,
   "metadata": {},
   "outputs": [],
   "source": [
    "# get mismatches\n",
    "mismatches = top_mouse_per_human[~top_mouse_per_human['label_match']]"
   ]
  },
  {
   "cell_type": "code",
   "execution_count": 35,
   "metadata": {},
   "outputs": [],
   "source": [
    "# Show most common mismatched pairs\n",
    "mismatch_counts = (\n",
    "    mismatches.groupby(['human_label', 'mouse_label'])\n",
    "    .size()\n",
    "    .reset_index(name='count')\n",
    "    .sort_values('count', ascending=False)\n",
    ")"
   ]
  },
  {
   "cell_type": "code",
   "execution_count": 36,
   "metadata": {},
   "outputs": [
    {
     "name": "stdout",
     "output_type": "stream",
     "text": [
      "\n",
      "Top mismatches:\n",
      "                                          human_label  \\\n",
      "53                                             neuron   \n",
      "48                                             neuron   \n",
      "43                 midbrain-derived inhibitory neuron   \n",
      "5           L5/6 near-projecting glutamatergic neuron   \n",
      "15                                               cell   \n",
      "..                                                ...   \n",
      "33                           hippocampal CA1-3 neuron   \n",
      "34                           hippocampal CA1-3 neuron   \n",
      "35                           hippocampal CA1-3 neuron   \n",
      "38  intratelencephalic-projecting glutamatergic co...   \n",
      "64                                 von Economo neuron   \n",
      "\n",
      "                                          mouse_label  count  \n",
      "53                               glutamatergic neuron     51  \n",
      "48                                   GABAergic neuron     28  \n",
      "43                                   GABAergic neuron     12  \n",
      "5       near-projecting glutamatergic cortical neuron     11  \n",
      "15  L2/3 intratelencephalic projecting glutamaterg...     10  \n",
      "..                                                ...    ...  \n",
      "33        cerebellar inhibitory GABAergic interneuron      1  \n",
      "34                               glutamatergic neuron      1  \n",
      "35                                    oligodendrocyte      1  \n",
      "38  L5 intratelencephalic projecting glutamatergic...      1  \n",
      "64  L5 extratelencephalic projecting glutamatergic...      1  \n",
      "\n",
      "[65 rows x 3 columns]\n"
     ]
    }
   ],
   "source": [
    "print(\"\\nTop mismatches:\")\n",
    "print(mismatch_counts)"
   ]
  },
  {
   "cell_type": "code",
   "execution_count": 37,
   "metadata": {},
   "outputs": [],
   "source": [
    "mismatch_counts.to_csv(\"mismatch_counts_all.tsv\", sep=\"\\t\", index=False)"
   ]
  },
  {
   "cell_type": "code",
   "execution_count": 38,
   "metadata": {},
   "outputs": [],
   "source": [
    "top_mouse_per_human.to_csv(\"human_remapping.tsv\", sep=\"\\t\", index=False)"
   ]
  },
  {
   "cell_type": "markdown",
   "metadata": {},
   "source": [
    "## mismatches again but removing broad human labels\n",
    "broad is where cell_ontology_term = neuron or cell - to look at these separately"
   ]
  },
  {
   "cell_type": "code",
   "execution_count": null,
   "metadata": {},
   "outputs": [],
   "source": []
  },
  {
   "cell_type": "markdown",
   "metadata": {},
   "source": [
    "## also to look at mismatches where score is over some threshold - let's say 70 to start"
   ]
  },
  {
   "cell_type": "code",
   "execution_count": null,
   "metadata": {},
   "outputs": [],
   "source": []
  },
  {
   "cell_type": "markdown",
   "metadata": {},
   "source": [
    "## look at additional insight given by mouse data for Miscellaneous and Splatter subsets"
   ]
  },
  {
   "cell_type": "code",
   "execution_count": 39,
   "metadata": {},
   "outputs": [],
   "source": [
    "broad_labels = ['CL:0000540', 'CL:0000000']"
   ]
  },
  {
   "cell_type": "code",
   "execution_count": 40,
   "metadata": {},
   "outputs": [],
   "source": [
    "broad_human_clusters = top_mouse_per_human[top_mouse_per_human['cell_ontology_term_id'].isin(broad_labels)]"
   ]
  },
  {
   "cell_type": "code",
   "execution_count": 41,
   "metadata": {},
   "outputs": [],
   "source": [
    "mismatches_broad = broad_human_clusters[~broad_human_clusters['label_match']]"
   ]
  },
  {
   "cell_type": "code",
   "execution_count": 42,
   "metadata": {},
   "outputs": [],
   "source": [
    "broad_mismatch_counts = (\n",
    "    mismatches_broad.groupby(['human_label', 'mouse_label'])\n",
    "    .size()\n",
    "    .reset_index(name='count')\n",
    "    .sort_values('count', ascending=False)\n",
    ")"
   ]
  }
 ],
 "metadata": {
  "kernelspec": {
   "display_name": "scRNA",
   "language": "python",
   "name": "python3"
  },
  "language_info": {
   "codemirror_mode": {
    "name": "ipython",
    "version": 3
   },
   "file_extension": ".py",
   "mimetype": "text/x-python",
   "name": "python",
   "nbconvert_exporter": "python",
   "pygments_lexer": "ipython3",
   "version": "3.12.3"
  }
 },
 "nbformat": 4,
 "nbformat_minor": 2
}
